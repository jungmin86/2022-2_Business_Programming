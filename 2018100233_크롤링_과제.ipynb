{
 "cells": [
  {
   "cell_type": "markdown",
   "id": "22799c35",
   "metadata": {},
   "source": [
    "<h3> 1. ﻿naver finance에서 코스피 200의 리스트를 받아라</h3>"
   ]
  },
  {
   "cell_type": "code",
   "execution_count": 1,
   "id": "9eb98dda",
   "metadata": {},
   "outputs": [
    {
     "name": "stdout",
     "output_type": "stream",
     "text": [
      "Requirement already satisfied: pandas-ta in /opt/anaconda3/lib/python3.9/site-packages (0.3.14b0)\n",
      "Requirement already satisfied: pandas in /opt/anaconda3/lib/python3.9/site-packages (from pandas-ta) (1.4.2)\n",
      "Requirement already satisfied: python-dateutil>=2.8.1 in /opt/anaconda3/lib/python3.9/site-packages (from pandas->pandas-ta) (2.8.2)\n",
      "Requirement already satisfied: pytz>=2020.1 in /opt/anaconda3/lib/python3.9/site-packages (from pandas->pandas-ta) (2021.3)\n",
      "Requirement already satisfied: numpy>=1.18.5 in /opt/anaconda3/lib/python3.9/site-packages (from pandas->pandas-ta) (1.21.5)\n",
      "Requirement already satisfied: six>=1.5 in /opt/anaconda3/lib/python3.9/site-packages (from python-dateutil>=2.8.1->pandas->pandas-ta) (1.16.0)\n"
     ]
    }
   ],
   "source": [
    "!pip install pandas-ta"
   ]
  },
  {
   "cell_type": "code",
   "execution_count": 2,
   "id": "c4fb7e6d",
   "metadata": {},
   "outputs": [],
   "source": [
    "from bs4 import BeautifulSoup\n",
    "import requests as rq\n",
    "import pandas as pd\n",
    "import pandas_ta as pta\n",
    "import re\n",
    "import numpy as np"
   ]
  },
  {
   "cell_type": "code",
   "execution_count": 3,
   "id": "e4522fbf",
   "metadata": {},
   "outputs": [],
   "source": [
    "jongmoks = [] #코스피200의 종목이름\n",
    "codes = [] #코스피200의 종목코드\n",
    "for page in range(1,21):\n",
    "    url = f'https://finance.naver.com/sise/entryJongmok.nhn?&page={page}'\n",
    "    html = rq.get(url)\n",
    "    soup = BeautifulSoup(html.content, 'html.parser')\n",
    "    items = soup.find_all('td', {'class': 'ctg'})\n",
    "    \n",
    "    for item in items:\n",
    "        txt = item.a.get('href') #item에서 <a href =''>부분만 추출\n",
    "        k = re.search('[\\d]+', txt) #href에 포함된 종목코드만 추출, 문자열 안에서 정수만 추출\n",
    "        if k:\n",
    "            code = k.group()\n",
    "            codes.append(code)\n",
    "            name = item.text\n",
    "            jongmoks.append(name)\n",
    "    #출처: https://titanism-ebot.tistory.com/3\n",
    "        \n",
    "data = dict(zip(codes, jongmoks)) #종목코드와 종목이름을 결합한 딕셔너리"
   ]
  },
  {
   "cell_type": "markdown",
   "id": "d34563ba",
   "metadata": {},
   "source": [
    "<h3> 2. 2022년 코스피 200의 1월 ~3월까지의 주가를 모두 받아라﻿ </h3>"
   ]
  },
  {
   "cell_type": "code",
   "execution_count": 4,
   "id": "e4bc72d0",
   "metadata": {
    "scrolled": false
   },
   "outputs": [],
   "source": [
    "for code in data.keys():\n",
    "    df = None #종목마다 다른 데이터프레임을 만들어야하기 때문에 반복할 때마다 초기화\n",
    "    dic1 = {'Date':[],\n",
    "       'Price':[]} #일별 종가를 저장하기 위한 딕셔너리\n",
    "    \n",
    "    for page in range(17, 24):\n",
    "        req = rq.get(f'https://finance.naver.com/item/sise_day.naver?code={code}&page={page}', headers={'User-Agent':'Mozilla/5.0'})\n",
    "        html = BeautifulSoup(req.text, 'html.parser')\n",
    "        lines = html.find_all('tr', {'onmouseover':'mouseOver(this)'})\n",
    "        \n",
    "        for line in lines:\n",
    "            date = line.find_all('td', {'align': 'center'})[0] #공휴일 제외 일자 추출\n",
    "            price = line.find_all('td', {'class': 'num'})[0] #일자에 해당하는 종가 추출\n",
    "            date_ = date.text.strip() #str 형식을 datetime 형식으로 변환할 때를 대비해서 공백 제거\n",
    "            price_ = price.text.strip() #str 형식을 int 형식으로 변환할 때를 대비해서 공백 제거\n",
    "            if date_ == \"\":  #date가 존재하지 않으면 dic1 딕셔너리에 일자와 종가를 추가하지 않음\n",
    "                break\n",
    "            if date_ not in dic1['Date']: #LG에너지솔루션의 경우 상장일인 1월 27일이 여러 번 나옴 -> 중복 제거\n",
    "                dic1['Date'].append(date_)\n",
    "                dic1['Price'].append(price_)\n",
    "    \n",
    "    df = pd.DataFrame(dic1) #해당하는 종목의 일별 종가를 담은 딕셔너리를 데이터프레임화\n",
    "    df.loc[:,'Date'] = pd.to_datetime(df.loc[:,'Date'])\n",
    "    df.loc[:,'Price'] = df.loc[:,'Price'].str.replace(\",\",\"\")\n",
    "    #출처: https://pandas.pydata.org/pandas-docs/stable/reference/api/pandas.Series.str.replace.html\n",
    "    df.loc[:,'Price'] = pd.to_numeric(df.loc[:,'Price']) #뒤에서 연산을 위해 문자를 숫자로 바꿔준다.\n",
    "    df1 = df[(df.loc[:,'Date'] >= '2022-01-01') & (df.loc[:,'Date'] <= '2022-03-31')]\n",
    "    df2 = df1.sort_values(by='Date')\n",
    "    #출처: https://pandas.pydata.org/docs/reference/api/pandas.DataFrame.sort_values.html\n",
    "    globals()['df_{}'.format(code)] = df2.reset_index(drop = True)\n",
    "    "
   ]
  },
  {
   "cell_type": "markdown",
   "id": "ba4d32e6",
   "metadata": {},
   "source": [
    "<h3> 3. 그들을 DataFrame화 하여 각각에 대해 기술적 분석, MA, MACD, RSI를 구하라 </h3>"
   ]
  },
  {
   "cell_type": "code",
   "execution_count": 9,
   "id": "23c0235c",
   "metadata": {},
   "outputs": [],
   "source": [
    "for code in data.keys():\n",
    "    # 1월부터 3월까지 공휴일이 아닌 일 수는 58일이기 때문에 5일, 20일에 대한 이동평균만 구한다.\n",
    "    #단순이동평균 SMA\n",
    "    globals()['df_{}'.format(code)]['Sma5'] = globals()['df_{}'.format(code)]['Price'].rolling(5).mean()\n",
    "    globals()['df_{}'.format(code)]['Sma20'] = globals()['df_{}'.format(code)]['Price'].rolling(20).mean()\n",
    "    #출처: https://wikidocs.net/4374\n",
    "    \n",
    "    #지수이동평균 EMA\n",
    "    globals()['df_{}'.format(code)]['Ema5'] = globals()['df_{}'.format(code)]['Price'].ewm(5).mean()\n",
    "    globals()['df_{}'.format(code)]['Ema20'] = globals()['df_{}'.format(code)]['Price'].ewm(20).mean()\n",
    "    \n",
    "    #가중이동평균 WMA\n",
    "    \n",
    "    weights = np.arange(1,6)\n",
    "    wma5 = globals()['df_{}'.format(code)]['Price'].rolling(5).apply(lambda prices: np.dot(prices, weights)/weights.sum(), raw=True)\n",
    "\n",
    "    weights = np.arange(1,21)\n",
    "    wma20 = globals()['df_{}'.format(code)]['Price'].rolling(20).apply(lambda prices: np.dot(prices, weights)/weights.sum(), raw=True)\n",
    "\n",
    "    globals()['df_{}'.format(code)]['Wma5'] = wma5\n",
    "    globals()['df_{}'.format(code)]['Wma20'] = wma20\n",
    "    #출처: https://wendys.tistory.com/178\n",
    "    \n",
    "    #MACD, MACD Signal\n",
    "    exp1 = globals()['df_{}'.format(code)]['Price'].ewm(span=12, adjust=False).mean()\n",
    "    exp2 = globals()['df_{}'.format(code)]['Price'].ewm(span=26, adjust=False).mean()\n",
    "    globals()['df_{}'.format(code)]['MACD'] = exp1 - exp2\n",
    "    globals()['df_{}'.format(code)]['Signal line'] = globals()['df_{}'.format(code)]['MACD'].ewm(span=9, adjust=False).mean()\n",
    "    #출처: https://www.learnpythonwithrune.org/calucate-macd-with-pandas-dataframes/\n",
    "    \n",
    "    #RSI\n",
    "    globals()['df_{}'.format(code)]['Rsi14'] = pta.rsi(globals()['df_{}'.format(code)]['Price'], length = 14)\n",
    "    #출처: https://www.roelpeters.be/many-ways-to-calculate-the-rsi-in-python-pandas/"
   ]
  },
  {
   "cell_type": "markdown",
   "id": "68b625f6",
   "metadata": {},
   "source": [
    "<h3> 4. 이들을 csv로 만들어서 코드와 csv 200개를 알집으로 제출해라</h3>"
   ]
  },
  {
   "cell_type": "code",
   "execution_count": 10,
   "id": "c0e0fd47",
   "metadata": {},
   "outputs": [],
   "source": [
    "for code in data.keys():\n",
    "    globals()['df_{}'.format(code)].to_csv(f\"./csv/{code}+{data[code]}.csv\", sep = \",\", index = False, mode= \"w\",encoding='cp949')\n",
    "    \n",
    "#출처: https://www.digitalocean.com/community/tutorials/pandas-to_csv-convert-dataframe-to-csv"
   ]
  },
  {
   "cell_type": "code",
   "execution_count": null,
   "id": "4e7e4094",
   "metadata": {},
   "outputs": [],
   "source": []
  }
 ],
 "metadata": {
  "kernelspec": {
   "display_name": "Python 3 (ipykernel)",
   "language": "python",
   "name": "python3"
  },
  "language_info": {
   "codemirror_mode": {
    "name": "ipython",
    "version": 3
   },
   "file_extension": ".py",
   "mimetype": "text/x-python",
   "name": "python",
   "nbconvert_exporter": "python",
   "pygments_lexer": "ipython3",
   "version": "3.9.12"
  }
 },
 "nbformat": 4,
 "nbformat_minor": 5
}
